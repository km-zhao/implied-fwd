{
 "cells": [
  {
   "cell_type": "code",
   "execution_count": 2,
   "id": "67e84893",
   "metadata": {},
   "outputs": [],
   "source": [
    "import pandas as pd\n",
    "import numpy as np\n",
    "from scipy.interpolate import CubicSpline"
   ]
  },
  {
   "cell_type": "code",
   "execution_count": null,
   "id": "0604ddee",
   "metadata": {},
   "outputs": [],
   "source": [
    "parYld_df = pd.read_csv('../data/yield-curve-rates-1990-2024.csv')\n",
    "\n",
    "# drop short rates\n",
    "parYld_df = parYld_df.drop(columns=['1 Mo', '2 Mo', '3 Mo', '4 Mo'], axis=1)\n",
    "parYld_df['Date'] = pd.to_datetime(parYld_df['Date'], format='%m/%d/%y')\n",
    "parYld_df.iloc[:, 1:] = parYld_df.iloc[:, 1:] / 100 # convert percentage to decimal\n",
    "\n",
    "# remove any rows with missing rates\n",
    "parYld_df = parYld_df.dropna(axis=0, how='any', subset=parYld_df.columns[1:])"
   ]
  },
  {
   "cell_type": "code",
   "execution_count": 5,
   "id": "a3a74d2a",
   "metadata": {},
   "outputs": [],
   "source": [
    "parYld_T = parYld_df.set_index('Date').T\n",
    "\n",
    "# Set first index to 0.5, convert others by removing 'yr' and casting to float\n",
    "new_index = [0.5 if idx == '6 Mo' else float(idx.replace('Yr', '')) for idx in parYld_T.index]\n",
    "parYld_T.index = new_index"
   ]
  },
  {
   "cell_type": "code",
   "execution_count": 6,
   "id": "a2df8362",
   "metadata": {},
   "outputs": [],
   "source": [
    "# cubic spline interpolation\n",
    "new_index = np.arange(0.5, 30.5, 0.5) # quarterly intervals from 6 months to 30 years\n",
    "\n",
    "parYld_interp = pd.DataFrame(index=new_index, columns=parYld_T.columns)\n",
    "\n",
    "for col in parYld_T.columns:\n",
    "    x = parYld_T.index\n",
    "    y = parYld_T[col].values\n",
    "    mask = ~np.isnan(y) # drop na\n",
    "    if not np.all(mask):\n",
    "        print(f\"NaNs found in column '{col}'; interpolating over available data.\")\n",
    "    cs = CubicSpline(x[mask], y[mask], bc_type='natural')\n",
    "    parYld_interp[col] = cs(new_index)"
   ]
  },
  {
   "cell_type": "code",
   "execution_count": 23,
   "id": "e9a1a6c1",
   "metadata": {},
   "outputs": [],
   "source": [
    "def par_to_spot(par_rates, maturities):\n",
    "    \"\"\"\n",
    "    Convert par rates to spot rates using bootstrapping.\n",
    "    \n",
    "    Parameters:\n",
    "    par_rates (array-like): Par rates for different maturities.\n",
    "    maturities (array-like): Corresponding maturities in years.\n",
    "    \n",
    "    Returns:\n",
    "    np.ndarray: Spot rates corresponding to the maturities.\n",
    "    \"\"\"\n",
    "    n = len(par_rates)\n",
    "    spot_rates = np.zeros(n)\n",
    "    last_disc = 0.0\n",
    "    sum_zcb = 0.0\n",
    "\n",
    "    for i in range(n):\n",
    "        if i == 0:\n",
    "            spot_rates[i] = par_rates[i]\n",
    "        else:\n",
    "            last_disc = 1 / (1 + spot_rates[i-1])**maturities[i-1]\n",
    "            sum_zcb += last_disc\n",
    "            accum_n = (1 + par_rates[i] / 2) / (1 - par_rates[i] / 2 * sum_zcb)\n",
    "            spot_rates[i] = accum_n**(1/maturities[i]) - 1\n",
    "    return spot_rates"
   ]
  },
  {
   "cell_type": "code",
   "execution_count": 25,
   "id": "5780e177",
   "metadata": {},
   "outputs": [],
   "source": [
    "def spot_to_fwd(spot_rates, maturities):\n",
    "    \"\"\"\n",
    "    Convert spot rates to forward rates.\n",
    "    \n",
    "    Parameters:\n",
    "    spot_rates (array-like): Spot rates for different maturities.\n",
    "    maturities (array-like): Corresponding maturities in years.\n",
    "    \n",
    "    Returns:\n",
    "    np.ndarray: Forward rates corresponding to the maturities.\n",
    "    \"\"\"\n",
    "    n = len(spot_rates)\n",
    "    fwd_rates = np.zeros(n)\n",
    "    accum_n = 0.0\n",
    "    accum_lastn = 0.0\n",
    "\n",
    "    for i in range(n):\n",
    "        if i == 0:\n",
    "            fwd_rates[i] = spot_rates[i]\n",
    "        else:\n",
    "            accum_n = (1 + spot_rates[i])**maturities[i]\n",
    "            accum_lastn = (1 + spot_rates[i-1])**maturities[i-1]\n",
    "            fwd_rates[i] = (accum_n / accum_lastn)**(1/(maturities[i]-maturities[i-1])) - 1\n",
    "    return fwd_rates"
   ]
  },
  {
   "cell_type": "code",
   "execution_count": null,
   "id": "de8fd673",
   "metadata": {},
   "outputs": [],
   "source": [
    "spot_array = np.empty(parYld_interp.shape) # use numpy array for efficiency\n",
    "fwd_array = np.empty(parYld_interp.shape)\n",
    "\n",
    "for i, col in enumerate(parYld_interp.columns):\n",
    "    par_rates = parYld_interp[col].values\n",
    "    maturities = parYld_interp.index.values\n",
    "    spot_array[:, i] = par_to_spot(par_rates, maturities)\n",
    "    fwd_array[:, i] = spot_to_fwd(spot_array[:, i], maturities)\n",
    "\n",
    "spot_df = pd.DataFrame(spot_array, index=parYld_interp.index, columns=parYld_interp.columns)\n",
    "fwd_df = pd.DataFrame(fwd_array, index=parYld_interp.index, columns=parYld_interp.columns)"
   ]
  }
 ],
 "metadata": {
  "kernelspec": {
   "display_name": ".venv",
   "language": "python",
   "name": "python3"
  },
  "language_info": {
   "codemirror_mode": {
    "name": "ipython",
    "version": 3
   },
   "file_extension": ".py",
   "mimetype": "text/x-python",
   "name": "python",
   "nbconvert_exporter": "python",
   "pygments_lexer": "ipython3",
   "version": "3.13.7"
  }
 },
 "nbformat": 4,
 "nbformat_minor": 5
}
